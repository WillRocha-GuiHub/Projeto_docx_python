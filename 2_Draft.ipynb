{
 "cells": [
  {
   "cell_type": "code",
   "execution_count": 8,
   "id": "9a5db8c3",
   "metadata": {},
   "outputs": [
    {
     "name": "stdout",
     "output_type": "stream",
     "text": [
      "[]\n"
     ]
    }
   ],
   "source": [
    "from typing import List\n",
    "from dataclasses import dataclass, field\n",
    "from docx import Document\n",
    "from docx.opc.exceptions import PackageNotFoundError\n",
    "\n",
    "@dataclass\n",
    "class FormatFilter:\n",
    "    bold: List or str = field(default_factory = lambda: [\"None\", \"True\"])\n",
    "\n",
    "class ReadDocFile:\n",
    "    def __init__(self, filename):\n",
    "        self.fname = filename\n",
    "        self.loaded_document = None\n",
    "        self.content = None\n",
    "\n",
    "    def load_document(self):\n",
    "        try:\n",
    "            self.loaded_document = Document(self.fname)\n",
    "            self.content = self.get_content_as_list()\n",
    "        except PackageNotFoundError as e:\n",
    "            print(f\"File not found: {self.fname}\")\n",
    "            quit()\n",
    "\n",
    "    def get_content_as_list(self):\n",
    "        return [paragraph.text for paragraph in self.loaded_document.paragraphs]   \n",
    "\n",
    "\n",
    "    def _get_bold(self, paragraph, filter):\n",
    "        bold_runs = []\n",
    "        for run in paragraph.runs:\n",
    "            if run.bold == filter or filter is None:\n",
    "                bold_runs.append(run.text) # se quiser somente o primeiro match pode dar um return run.text aqui\n",
    "        return bold_runs\n",
    "\n",
    "\n",
    "    def get_formatted_text(self, format_filter: FormatFilter):\n",
    "        match_list = []\n",
    "        for paragraph in self.loaded_document.paragraphs:\n",
    "            bold = self._get_bold(paragraph, format_filter.bold)\n",
    "\n",
    "            if bold:\n",
    "                match_list.append(bold) # Em vez de add o paragrafo, adicionamos o return de bold\n",
    "        return match_list\n",
    "\n",
    "\n",
    "if __name__ == \"__main__\" :\n",
    "    doc = ReadDocFile(\"Teste.docx\")\n",
    "    doc.load_document()\n",
    "\n",
    "    # # Find bold:\n",
    "    filter1 = FormatFilter(bold=\"True\")\n",
    "    print(doc.get_formatted_text(format_filter=filter1))"
   ]
  }
 ],
 "metadata": {
  "kernelspec": {
   "display_name": "Python 3",
   "language": "python",
   "name": "python3"
  },
  "language_info": {
   "codemirror_mode": {
    "name": "ipython",
    "version": 3
   },
   "file_extension": ".py",
   "mimetype": "text/x-python",
   "name": "python",
   "nbconvert_exporter": "python",
   "pygments_lexer": "ipython3",
   "version": "3.9.7"
  }
 },
 "nbformat": 4,
 "nbformat_minor": 5
}
